{
 "cells": [
  {
   "cell_type": "markdown",
   "metadata": {},
   "source": [
    "# How to work with Points"
   ]
  },
  {
   "cell_type": "markdown",
   "metadata": {},
   "source": [
    "The types `Point{D}` (an efficient immutable point) and `MPoint{D}` (a flexible mutable point) are implemented as follows:"
   ]
  },
  {
   "cell_type": "code",
   "execution_count": null,
   "metadata": {},
   "outputs": [],
   "source": [
    "using StaticArrays"
   ]
  },
  {
   "cell_type": "code",
   "execution_count": null,
   "metadata": {},
   "outputs": [],
   "source": [
    "const Point{D} = SVector{D,Float64} where D\n",
    "const MPoint{D} = MVector{D,Float64} where D"
   ]
  },
  {
   "cell_type": "markdown",
   "metadata": {},
   "source": [
    "Since the parameter `D` should be a constant, you can use dispatch on so-called [value types](https://docs.julialang.org/en/v1/manual/types/#%22Value-types%22-1) in functions that work with points and have no other mean to figure out what `D` is. E.g., if we want a function that allocates a 1D array of points of length `n`, we can procede as follows"
   ]
  },
  {
   "cell_type": "code",
   "execution_count": null,
   "metadata": {},
   "outputs": [],
   "source": [
    "function allocate_points(n,::Val{D}) where D\n",
    "    Array{Point{D},1}(undef,(n,))\n",
    "end"
   ]
  },
  {
   "cell_type": "markdown",
   "metadata": {},
   "source": [
    "And we use it as follows to create a long array of `Point{3}`. Recall that `Val(3)` is the only instance of the type `Val{3}`."
   ]
  },
  {
   "cell_type": "code",
   "execution_count": null,
   "metadata": {},
   "outputs": [],
   "source": [
    "@time a = allocate_points(10000000,Val(3))"
   ]
  },
  {
   "cell_type": "markdown",
   "metadata": {},
   "source": [
    "`Point{D}` is immutable, what means that you can only create or assign a whole point at once. However, in some situations it is needed to set or modify a point component by component. In this case we can use `MPoint{D}`a mutable version of `Point{D}`. E.g., in the following function, we allocate a single `MPoint{D}` to fill an array of immutable `Point{D}`."
   ]
  },
  {
   "cell_type": "code",
   "execution_count": null,
   "metadata": {},
   "outputs": [],
   "source": [
    "function fill_points!(a::Array{Point{D},1}) where D\n",
    "    p = MPoint{D}(zeros(D))\n",
    "    @inbounds for i in 1:length(a)\n",
    "        @inbounds for j in 1:D\n",
    "            p[j] = i*j # Here we take advantatge of the mutability of p\n",
    "        end\n",
    "        a[i] = p # Here we assign a whole immutable point at once\n",
    "    end\n",
    "    a\n",
    "end"
   ]
  },
  {
   "cell_type": "code",
   "execution_count": null,
   "metadata": {},
   "outputs": [],
   "source": [
    "@time fill_points!(a)"
   ]
  },
  {
   "cell_type": "markdown",
   "metadata": {},
   "source": [
    "`Point{D}` isntances are immutable, so they are allocated in the stack. For this reason it is efficient to create and return a `Point{D}` from inside a function that is called multiple times."
   ]
  },
  {
   "cell_type": "code",
   "execution_count": null,
   "metadata": {},
   "outputs": [],
   "source": [
    "function inner_fun(::Val{D}) where D\n",
    "    if D == 3\n",
    "        qx = 1.0\n",
    "        qy = 1.4\n",
    "        qz = 2.0\n",
    "        q = Point{D}(qx,qy,qz)\n",
    "    else\n",
    "        q = @SVector ones(Float64,D)\n",
    "    end\n",
    "    q\n",
    "end\n",
    "\n",
    "function outer_fun!(a::Array{Point{D},1})  where D\n",
    "    @inbounds for i=1:length(a)\n",
    "      a[i] = inner_fun(Val(D))\n",
    "    end\n",
    "    a\n",
    "end"
   ]
  },
  {
   "cell_type": "code",
   "execution_count": null,
   "metadata": {},
   "outputs": [],
   "source": [
    "@time outer_fun!(a)"
   ]
  }
 ],
 "metadata": {
  "kernelspec": {
   "display_name": "Julia 1.1.0",
   "language": "julia",
   "name": "julia-1.1"
  },
  "language_info": {
   "file_extension": ".jl",
   "mimetype": "application/julia",
   "name": "julia",
   "version": "1.1.0"
  }
 },
 "nbformat": 4,
 "nbformat_minor": 2
}
